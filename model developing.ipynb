{
 "metadata": {
  "kernelspec": {
   "language": "python",
   "display_name": "Python 3",
   "name": "python3"
  },
  "language_info": {
   "name": "python",
   "version": "3.10.13",
   "mimetype": "text/x-python",
   "codemirror_mode": {
    "name": "ipython",
    "version": 3
   },
   "pygments_lexer": "ipython3",
   "nbconvert_exporter": "python",
   "file_extension": ".py"
  },
  "kaggle": {
   "accelerator": "none",
   "dataSources": [
    {
     "sourceId": 9812,
     "sourceType": "datasetVersion",
     "datasetId": 5793
    }
   ],
   "dockerImageVersionId": 30664,
   "isInternetEnabled": true,
   "language": "python",
   "sourceType": "notebook",
   "isGpuEnabled": false
  }
 },
 "nbformat_minor": 4,
 "nbformat": 4,
 "cells": [
  {
   "cell_type": "code",
   "source": [
    "import matplotlib.pyplot as plt\n",
    "import plotly.express as px\n",
    "import tensorflow as tf\n",
    "from tqdm import tqdm\n",
    "import pandas as pd\n",
    "import numpy as np\n",
    "import librosa"
   ],
   "metadata": {
    "_uuid": "8f2839f25d086af736a60e9eeb907d3b93b6e0e5",
    "_cell_guid": "b1076dfc-b9ad-4769-8c92-a6c4dae69d19",
    "execution": {
     "iopub.status.busy": "2024-03-10T04:12:30.665987Z",
     "iopub.execute_input": "2024-03-10T04:12:30.666391Z",
     "iopub.status.idle": "2024-03-10T04:12:30.672004Z",
     "shell.execute_reply.started": "2024-03-10T04:12:30.666360Z",
     "shell.execute_reply": "2024-03-10T04:12:30.670876Z"
    },
    "trusted": true
   },
   "execution_count": null,
   "outputs": []
  },
  {
   "cell_type": "code",
   "source": [
    "# def balance_data(df):\n",
    "#     age_counts = df['age'].value_counts()\n",
    "#     min_count = age_counts.min()\n",
    "#     target_count_per_age = {age: min_count for age in age_counts.index}\n",
    "#     new_data = pd.DataFrame(columns=df.columns)\n",
    "#     for age, count in target_count_per_age.items():\n",
    "#         age_data = df[df['age'] == age]\n",
    "#         male_data = age_data[age_data['gender'] == 0].head(count // 2)\n",
    "#         female_data = age_data[age_data['gender'] == 1].head(count // 2)\n",
    "#         new_data = pd.concat([new_data, male_data, female_data])\n",
    "#     return new_data\n",
    "\n",
    "def balance_data(df):\n",
    "    gender_counts = df['gender'].value_counts()\n",
    "    gender_0_count = gender_counts[0]\n",
    "    gender_1_count = gender_counts[1]\n",
    "    excess_count = max(gender_0_count - gender_1_count, 0)\n",
    "    if excess_count > 0:\n",
    "        gender_0_df = df[df['gender'] == 0]\n",
    "        sampled_gender_0_df = gender_0_df.sample(n=excess_count, weights=df['age'], replace=False)\n",
    "        df = pd.concat([df[df['gender'] == 1], sampled_gender_0_df])\n",
    "    return df\n",
    "\n",
    "\n",
    "def clean_csv(data, files_folder, is_train):\n",
    "    data = data.dropna(subset=['age', 'gender']).drop(columns=['up_votes', 'down_votes', 'accent', 'duration', 'text'])\n",
    "    data[\"age\"] = data[\"age\"].map(\n",
    "        {\"teens\": 10, \"twenties\": 20, \"thirties\": 30, \"fourties\": 40, \"fifties\": 50, \"sixties\": 60, \"seventies\": 70,\n",
    "         \"eighties\": 80}).infer_objects(copy=False)\n",
    "    data['filename'] = files_folder + '/' + data['filename']\n",
    "    data['gender'] = data['gender'].map({'male': 0, 'female': 1, 'other': 2})\n",
    "    if is_train:\n",
    "        data = balance_data(data)\n",
    "    return data[data['gender'] != 2]\n",
    "\n",
    "\n",
    "def open_csv(folder_path, is_train):\n",
    "    df = clean_csv(pd.read_csv(folder_path + \".csv\"), folder_path, is_train)\n",
    "    print(\"Dataframe: \" + str(df.shape) + \" \\n\" + str(df['gender'].value_counts()) + str(df['age'].value_counts()))\n",
    "    px.bar(df.groupby(['age', 'gender']).agg({'filename': 'count'}).reset_index(), x=\"age\", y=\"filename\",\n",
    "           color=\"gender\", text_auto=True).update_xaxes(categoryorder=\"total descending\").show()\n",
    "    return df"
   ],
   "metadata": {
    "execution": {
     "iopub.status.busy": "2024-03-10T04:12:30.676841Z",
     "iopub.execute_input": "2024-03-10T04:12:30.677242Z",
     "iopub.status.idle": "2024-03-10T04:12:30.691289Z",
     "shell.execute_reply.started": "2024-03-10T04:12:30.677199Z",
     "shell.execute_reply": "2024-03-10T04:12:30.690412Z"
    },
    "trusted": true
   },
   "execution_count": null,
   "outputs": []
  },
  {
   "cell_type": "code",
   "source": [
    "root_path = \"/kaggle/input/common-voice/\"\n",
    "\n",
    "train_df = open_csv(root_path + 'cv-valid-train', is_train=True)\n",
    "test_df = open_csv(root_path + 'cv-valid-test', is_train=False)"
   ],
   "metadata": {
    "execution": {
     "iopub.status.busy": "2024-03-10T04:12:30.695755Z",
     "iopub.execute_input": "2024-03-10T04:12:30.696149Z",
     "iopub.status.idle": "2024-03-10T04:12:31.404335Z",
     "shell.execute_reply.started": "2024-03-10T04:12:30.696110Z",
     "shell.execute_reply": "2024-03-10T04:12:31.403258Z"
    },
    "trusted": true
   },
   "execution_count": null,
   "outputs": []
  },
  {
   "cell_type": "code",
   "source": [
    "batch_size = 256\n",
    "sample_rate = 22050\n",
    "target_size = int(5 * sample_rate)"
   ],
   "metadata": {
    "execution": {
     "iopub.status.busy": "2024-03-10T04:12:31.406231Z",
     "iopub.execute_input": "2024-03-10T04:12:31.406651Z",
     "iopub.status.idle": "2024-03-10T04:12:31.411930Z",
     "shell.execute_reply.started": "2024-03-10T04:12:31.406615Z",
     "shell.execute_reply": "2024-03-10T04:12:31.410914Z"
    },
    "trusted": true
   },
   "execution_count": null,
   "outputs": []
  },
  {
   "cell_type": "code",
   "source": [
    "def random_crop(data, center_crop=False):\n",
    "    N = data.shape[0]\n",
    "    if N == target_size:\n",
    "        return data\n",
    "    if N < target_size:\n",
    "        tot_pads = target_size - N\n",
    "        left_pads = int(np.ceil(tot_pads / 2))\n",
    "        right_pads = int(np.floor(tot_pads / 2))\n",
    "        return np.pad(data, [left_pads, right_pads], mode='constant')\n",
    "    if center_crop:\n",
    "        from_ = int((N / 2) - (target_size / 2))\n",
    "    else:\n",
    "        from_ = np.random.randint(0, np.floor(N - target_size))\n",
    "    to_ = from_ + target_size\n",
    "    return data[from_:to_]\n",
    "\n",
    "\n",
    "def normalize(features):\n",
    "    return (features - np.mean(features, axis=0)) / np.std(features, axis=0)\n",
    "\n",
    "\n",
    "def load_and_preprocess(df, center_crop):\n",
    "    result = []\n",
    "    for file in tqdm(df['filename'].values):\n",
    "        wf, sr = librosa.load(file)\n",
    "        wf = random_crop(wf, center_crop)\n",
    "        #Add other augmentations\n",
    "        wf = librosa.feature.mfcc(y=wf, sr=sr)\n",
    "        wf = normalize(wf)\n",
    "        result.append(wf)\n",
    "    return result"
   ],
   "metadata": {
    "execution": {
     "iopub.status.busy": "2024-03-10T04:12:31.413071Z",
     "iopub.execute_input": "2024-03-10T04:12:31.413403Z",
     "iopub.status.idle": "2024-03-10T04:12:31.427303Z",
     "shell.execute_reply.started": "2024-03-10T04:12:31.413378Z",
     "shell.execute_reply": "2024-03-10T04:12:31.426352Z"
    },
    "trusted": true
   },
   "execution_count": null,
   "outputs": []
  },
  {
   "cell_type": "code",
   "source": [
    "def create_dataset(dataframe, batch_size=batch_size, center_crop=False, shuffle=True):\n",
    "    dataset = tf.data.Dataset.from_tensor_slices((load_and_preprocess(dataframe, center_crop), (\n",
    "    dataframe['gender'].values.astype(int), dataframe['age'].values.astype(float))))\n",
    "    dataset = dataset.cache()\n",
    "    if shuffle:\n",
    "        dataset = dataset.shuffle(buffer_size=dataset.cardinality())\n",
    "    dataset = dataset.repeat()\n",
    "    dataset = dataset.batch(batch_size)\n",
    "    dataset = dataset.prefetch(buffer_size=tf.data.AUTOTUNE)\n",
    "    return dataset"
   ],
   "metadata": {
    "execution": {
     "iopub.status.busy": "2024-03-10T04:12:31.429340Z",
     "iopub.execute_input": "2024-03-10T04:12:31.429709Z",
     "iopub.status.idle": "2024-03-10T04:12:31.440567Z",
     "shell.execute_reply.started": "2024-03-10T04:12:31.429646Z",
     "shell.execute_reply": "2024-03-10T04:12:31.439644Z"
    },
    "trusted": true
   },
   "execution_count": null,
   "outputs": []
  },
  {
   "cell_type": "code",
   "source": [
    "train_ds = create_dataset(train_df)\n",
    "test_ds = create_dataset(test_df, center_crop=True, shuffle=False)"
   ],
   "metadata": {
    "execution": {
     "iopub.status.busy": "2024-03-10T04:12:31.441615Z",
     "iopub.execute_input": "2024-03-10T04:12:31.441941Z",
     "iopub.status.idle": "2024-03-10T04:56:03.627600Z",
     "shell.execute_reply.started": "2024-03-10T04:12:31.441916Z",
     "shell.execute_reply": "2024-03-10T04:56:03.626787Z"
    },
    "trusted": true
   },
   "execution_count": null,
   "outputs": []
  },
  {
   "cell_type": "code",
   "source": [
    "ds = test_ds.take(1).as_numpy_iterator().next()\n",
    "index = np.random.randint(0, batch_size, (1,))[0]\n",
    "librosa.display.waveshow(ds[0][index])\n",
    "print(f\"Age: {ds[1][1][index]} | Gender: {'Male' if ds[1][0][index] == 0 else 'Female'}\")\n",
    "\n",
    "inp_shape = ds[0][0].shape"
   ],
   "metadata": {
    "execution": {
     "iopub.status.busy": "2024-03-10T04:56:03.628756Z",
     "iopub.execute_input": "2024-03-10T04:56:03.629103Z",
     "iopub.status.idle": "2024-03-10T04:56:03.927838Z",
     "shell.execute_reply.started": "2024-03-10T04:56:03.629075Z",
     "shell.execute_reply": "2024-03-10T04:56:03.926885Z"
    },
    "trusted": true
   },
   "execution_count": null,
   "outputs": []
  },
  {
   "cell_type": "code",
   "source": [
    "train_steps = int(np.ceil(len(train_df) / batch_size))\n",
    "test_steps = int(np.ceil(len(test_df) / batch_size))"
   ],
   "metadata": {
    "execution": {
     "iopub.status.busy": "2024-03-10T04:56:03.929066Z",
     "iopub.execute_input": "2024-03-10T04:56:03.929354Z",
     "iopub.status.idle": "2024-03-10T04:56:03.934241Z",
     "shell.execute_reply.started": "2024-03-10T04:56:03.929328Z",
     "shell.execute_reply": "2024-03-10T04:56:03.933245Z"
    },
    "trusted": true
   },
   "execution_count": null,
   "outputs": []
  },
  {
   "cell_type": "code",
   "source": [
    "class CustomCRNN:\n",
    "\n",
    "    def __CustomCRNN(self, input_shape):\n",
    "        X_input = tf.keras.Input(input_shape)\n",
    "        X = tf.keras.layers.Conv1D(32, 3, strides=1)(X_input)\n",
    "        X = tf.keras.layers.BatchNormalization(axis=-1)(X)\n",
    "        X = tf.keras.layers.Activation('relu')(X)\n",
    "\n",
    "        X = tf.keras.layers.Conv1D(64, 3, strides=1)(X)\n",
    "        X = tf.keras.layers.BatchNormalization(axis=-1)(X)\n",
    "        X = tf.keras.layers.Activation('relu')(X)\n",
    "\n",
    "        X = tf.keras.layers.Conv1D(128, 3, strides=1)(X)\n",
    "        X = tf.keras.layers.BatchNormalization(axis=-1)(X)\n",
    "        X = tf.keras.layers.Activation('relu')(X)\n",
    "\n",
    "        X = tf.keras.layers.GRU(128)(X)\n",
    "        return tf.keras.Model(inputs=X_input, outputs=X, name='CustomCRNN-FeatureExtractor')\n",
    "\n",
    "    def create_model(self, input_shape):\n",
    "        base_model = self.__CustomCRNN(input_shape=input_shape)\n",
    "        fc = tf.keras.layers.Flatten()(base_model.output)\n",
    "\n",
    "        # Gender output\n",
    "        gender_output = tf.keras.layers.Dense(1, activation='sigmoid', name='gender_output')(fc)\n",
    "\n",
    "        #Age output\n",
    "        age_output = tf.keras.layers.Dense(1, activation='linear', name='age_output')(fc)\n",
    "\n",
    "        return tf.keras.models.Model(inputs=base_model.input, outputs=[gender_output, age_output], name='CustomCRNN')"
   ],
   "metadata": {
    "execution": {
     "iopub.status.busy": "2024-03-10T04:56:03.935475Z",
     "iopub.execute_input": "2024-03-10T04:56:03.935753Z",
     "iopub.status.idle": "2024-03-10T04:56:03.947940Z",
     "shell.execute_reply.started": "2024-03-10T04:56:03.935730Z",
     "shell.execute_reply": "2024-03-10T04:56:03.946999Z"
    },
    "trusted": true
   },
   "execution_count": null,
   "outputs": []
  },
  {
   "cell_type": "code",
   "source": [
    "customcrnn = CustomCRNN().create_model(input_shape=inp_shape)\n",
    "\n",
    "customcrnn.compile(optimizer=tf.keras.optimizers.Adam(learning_rate=0.0001),\n",
    "                   loss=[tf.keras.losses.BinaryCrossentropy(from_logits=False),\n",
    "                         tf.keras.losses.MeanSquaredLogarithmicError()],\n",
    "                   metrics=[['accuracy'], [tf.keras.metrics.MeanAbsoluteError()]],\n",
    "                   loss_weights=[0.5, 0.5])\n",
    "\n",
    "customcrnn.summary()"
   ],
   "metadata": {
    "execution": {
     "iopub.status.busy": "2024-03-10T04:56:03.949066Z",
     "iopub.execute_input": "2024-03-10T04:56:03.949412Z",
     "iopub.status.idle": "2024-03-10T04:56:04.163918Z",
     "shell.execute_reply.started": "2024-03-10T04:56:03.949382Z",
     "shell.execute_reply": "2024-03-10T04:56:04.163039Z"
    },
    "trusted": true
   },
   "execution_count": null,
   "outputs": []
  },
  {
   "cell_type": "code",
   "source": [
    "customcrnn_history = customcrnn.fit(train_ds, epochs=30, validation_data=test_ds, steps_per_epoch=train_steps,\n",
    "                                    validation_steps=test_steps, verbose='auto')"
   ],
   "metadata": {
    "execution": {
     "iopub.status.busy": "2024-03-10T04:56:04.166822Z",
     "iopub.execute_input": "2024-03-10T04:56:04.167136Z",
     "iopub.status.idle": "2024-03-10T04:57:22.491916Z",
     "shell.execute_reply.started": "2024-03-10T04:56:04.167112Z",
     "shell.execute_reply": "2024-03-10T04:57:22.490928Z"
    },
    "trusted": true
   },
   "execution_count": null,
   "outputs": []
  },
  {
   "cell_type": "code",
   "source": [
    "plt.plot(customcrnn_history.history['loss'])\n",
    "plt.plot(customcrnn_history.history['val_loss'])"
   ],
   "metadata": {
    "execution": {
     "iopub.status.busy": "2024-03-10T04:57:28.855608Z",
     "iopub.execute_input": "2024-03-10T04:57:28.855993Z",
     "iopub.status.idle": "2024-03-10T04:57:29.091176Z",
     "shell.execute_reply.started": "2024-03-10T04:57:28.855964Z",
     "shell.execute_reply": "2024-03-10T04:57:29.090135Z"
    },
    "trusted": true
   },
   "execution_count": null,
   "outputs": []
  },
  {
   "cell_type": "code",
   "source": [
    "plt.plot(customcrnn_history.history['gender_output_accuracy'])\n",
    "plt.plot(customcrnn_history.history['val_gender_output_accuracy'])"
   ],
   "metadata": {
    "execution": {
     "iopub.status.busy": "2024-03-10T04:57:32.508573Z",
     "iopub.execute_input": "2024-03-10T04:57:32.509467Z",
     "iopub.status.idle": "2024-03-10T04:57:32.712337Z",
     "shell.execute_reply.started": "2024-03-10T04:57:32.509435Z",
     "shell.execute_reply": "2024-03-10T04:57:32.711255Z"
    },
    "trusted": true
   },
   "execution_count": null,
   "outputs": []
  },
  {
   "cell_type": "code",
   "source": [
    "plt.plot(customcrnn_history.history['age_output_mean_absolute_error'])\n",
    "plt.plot(customcrnn_history.history['val_age_output_mean_absolute_error'])"
   ],
   "metadata": {
    "execution": {
     "iopub.status.busy": "2024-03-10T04:57:35.311781Z",
     "iopub.execute_input": "2024-03-10T04:57:35.312711Z",
     "iopub.status.idle": "2024-03-10T04:57:35.598585Z",
     "shell.execute_reply.started": "2024-03-10T04:57:35.312677Z",
     "shell.execute_reply": "2024-03-10T04:57:35.597499Z"
    },
    "trusted": true
   },
   "execution_count": null,
   "outputs": []
  },
  {
   "cell_type": "code",
   "source": [
    "customcrnn.save('/kaggle/working/customcrnn.keras', overwrite=True, save_format=None)"
   ],
   "metadata": {
    "execution": {
     "iopub.status.busy": "2024-03-10T05:13:45.060041Z",
     "iopub.execute_input": "2024-03-10T05:13:45.060924Z",
     "iopub.status.idle": "2024-03-10T05:13:45.156564Z",
     "shell.execute_reply.started": "2024-03-10T05:13:45.060894Z",
     "shell.execute_reply": "2024-03-10T05:13:45.155424Z"
    },
    "trusted": true
   },
   "execution_count": null,
   "outputs": []
  },
  {
   "cell_type": "code",
   "source": [
    "new_model = tf.keras.models.load_model('/kaggle/working/customcrnn.keras')"
   ],
   "metadata": {
    "execution": {
     "iopub.status.busy": "2024-03-10T05:14:41.803253Z",
     "iopub.execute_input": "2024-03-10T05:14:41.803993Z",
     "iopub.status.idle": "2024-03-10T05:14:42.031898Z",
     "shell.execute_reply.started": "2024-03-10T05:14:41.803959Z",
     "shell.execute_reply": "2024-03-10T05:14:42.030859Z"
    },
    "trusted": true
   },
   "execution_count": null,
   "outputs": []
  },
  {
   "cell_type": "code",
   "source": [
    "new_model.predict(test_ds,\n",
    "                  batch_size=batch_size,\n",
    "                  verbose='auto',\n",
    "                  steps=test_steps)[1]"
   ],
   "metadata": {
    "execution": {
     "iopub.status.busy": "2024-03-10T05:19:52.040361Z",
     "iopub.execute_input": "2024-03-10T05:19:52.041030Z",
     "iopub.status.idle": "2024-03-10T05:19:52.097531Z",
     "shell.execute_reply.started": "2024-03-10T05:19:52.040993Z",
     "shell.execute_reply": "2024-03-10T05:19:52.096482Z"
    },
    "trusted": true
   },
   "execution_count": null,
   "outputs": []
  },
  {
   "cell_type": "code",
   "source": [],
   "metadata": {},
   "execution_count": null,
   "outputs": []
  }
 ]
}
